{
 "cells": [
  {
   "cell_type": "markdown",
   "metadata": {},
   "source": [
    "# Fernando Puebla Stein\n",
    "\n",
    "- Link de acesso aos videos: https://drive.google.com/drive/folders/1T0zwqA3l6RldkM9cYhhY7jjHSdusJ2ir?usp=drive_link\n"
   ]
  },
  {
   "cell_type": "markdown",
   "metadata": {},
   "source": [
    "Importando biliotecas\n",
    "\n"
   ]
  },
  {
   "cell_type": "code",
   "execution_count": 86,
   "metadata": {},
   "outputs": [],
   "source": [
    "import moviepy.editor as mpe\n",
    "import numpy as np"
   ]
  },
  {
   "cell_type": "markdown",
   "metadata": {},
   "source": [
    "Mostrando video original\n"
   ]
  },
  {
   "cell_type": "code",
   "execution_count": null,
   "metadata": {},
   "outputs": [],
   "source": [
    "# Carrega o vídeo\n",
    "videoInicial = mpe.VideoFileClip(\"/Users/Nando/Desktop/Video C209.mp4\")\n",
    "\n",
    "# Ajusta o parâmetro maxduration para exibir vídeos mais longos\n",
    "videoInicial.ipython_display(width=480, maxduration=200)  # Define um valor maior que a duração do vídeo"
   ]
  },
  {
   "cell_type": "markdown",
   "metadata": {},
   "source": [
    "# Inverter a imagem, no eixo, a cada 20 segundo"
   ]
  },
  {
   "cell_type": "code",
   "execution_count": null,
   "metadata": {},
   "outputs": [],
   "source": [
    "# Função para refletir um frame em relação ao eixo X (horizontalmente)\n",
    "def reflect_frame_x(frame):\n",
    "    return frame[:, ::-1]  # Reflete a imagem no eixo X\n",
    "\n",
    "# Função para alternar reflexão a cada 20 segundos\n",
    "def reflete(get_frame, t, interval=20):\n",
    "    if int(t // interval) % 2 == 1:  # Aplica reflexão nos intervalos alternados de 20 segundos\n",
    "        return reflect_frame_x(get_frame(t))  # Reflete o frame\n",
    "    else:\n",
    "        return get_frame(t)  # Mantém o frame original\n",
    "\n",
    "\n",
    "videoRefl= video.fl(reflete)  # Aplica a inversão alternada\n",
    "\n",
    "\n",
    "# Exibe o vídeo processado (opcional)\n",
    "videoRefl.ipython_display(width=480, maxduration=200)"
   ]
  },
  {
   "cell_type": "markdown",
   "metadata": {},
   "source": [
    "# Diminiur o som, de forma gradativa, a cada 30 segundos, de forma que os últimos 10 segundos fique em silêncio (sem som)"
   ]
  },
  {
   "cell_type": "code",
   "execution_count": null,
   "metadata": {},
   "outputs": [],
   "source": [
    "# Função para reduzir o áudio gradativamente\n",
    "def diminui_audio(audio, t, video_duration, interval=30, silence_duration=10):\n",
    "\n",
    "    frame = audio(t)\n",
    "    t = t if isinstance(t, (int, float)) else t[0]\n",
    "\n",
    "    reduction_factor = max(0, 1 - (t // interval) * (1 / (video_duration // interval)))\n",
    "\n",
    "    if video_duration - t <= silence_duration:\n",
    "        reduction_factor = 0\n",
    "\n",
    "    # Aplica o fator ao áudio (mono ou estéreo)\n",
    "    if len(frame.shape) > 1:  \n",
    "        frame[:, 0] *= reduction_factor\n",
    "        frame[:, 1] *= reduction_factor\n",
    "    else:  \n",
    "        frame *= reduction_factor\n",
    "\n",
    "    return frame\n",
    "\n",
    "# Função para aplicar a redução de áudio\n",
    "def apply_audio_decrease(audio, t, video_duration):\n",
    "    return diminui_audio(audio, t, video_duration)\n",
    "\n",
    "# Obtém a duração total do vídeo\n",
    "video_duration = videoInicial.duration  \n",
    "\n",
    "# Processa o áudio do vídeo refletido\n",
    "audio_decrease = videoRefl.audio.fl(lambda audio, t: apply_audio_decrease(audio, t, video_duration))\n",
    "\n",
    "# Aplica o áudio modificado no vídeo refletido\n",
    "video_audio_decrease = videoRefl.set_audio(audio_decrease)\n",
    "\n",
    "# Exibir o vídeo \n",
    "video_audio_decrease.ipython_display(width=480, maxduration=200)\n",
    "\n",
    "\n"
   ]
  },
  {
   "cell_type": "markdown",
   "metadata": {},
   "source": [
    "# Após o primeiro minuto fazer um corte para o segundo 80"
   ]
  },
  {
   "cell_type": "code",
   "execution_count": null,
   "metadata": {},
   "outputs": [],
   "source": [
    "video1 = video_audio_decrease.subclip(0, 60)  # Primeiros 60 segundos\n",
    "video2 = video_audio_decrease.subclip(80, video_duration)  # A partir do segundo 80 até o fim\n",
    "video20s = video_audio_decrease.subclip(60, 80)\n",
    "\n",
    "\n",
    "# Concatenar os vídeos cortados\n",
    "final_video = mpe.concatenate_videoclips([video1, video2])\n",
    "\n",
    "# Exibir o vídeo \n",
    "final_video.ipython_display(width=480, maxduration=200)"
   ]
  },
  {
   "cell_type": "markdown",
   "metadata": {},
   "source": [
    "# Insira os 20 segundos cortados acima no fim do video"
   ]
  },
  {
   "cell_type": "code",
   "execution_count": null,
   "metadata": {},
   "outputs": [],
   "source": [
    "\n",
    "# Dividir o vídeo nos cortes necessários\n",
    "video1 = video_audio_decrease.subclip(0, 60)  # Primeiros 60 segundos\n",
    "video2 = video_audio_decrease.subclip(80, video_duration)  # A partir do segundo 80 até o fim\n",
    "video20s = video_audio_decrease.subclip(60, 80)  # Cortar os 20 segundos entre 60 e 80\n",
    "\n",
    "# Concatenar todos os vídeos\n",
    "VideoFinal = mpe.concatenate_videoclips([video1, video2, video20s])\n",
    "\n",
    "# Exibir o vídeo \n",
    "VideoFinal.ipython_display(width=480, maxduration=200)\n",
    "\n"
   ]
  },
  {
   "cell_type": "markdown",
   "metadata": {},
   "source": [
    "# Salvando o video\n"
   ]
  },
  {
   "cell_type": "code",
   "execution_count": null,
   "metadata": {},
   "outputs": [],
   "source": [
    "output_path = \"Videofinal.mp4\"\n",
    "VideoFinal.write_videofile(output_path, codec=\"libx264\", audio=True, audio_codec=\"aac\")\n"
   ]
  }
 ],
 "metadata": {
  "kernelspec": {
   "display_name": "Python 3",
   "language": "python",
   "name": "python3"
  },
  "language_info": {
   "codemirror_mode": {
    "name": "ipython",
    "version": 3
   },
   "file_extension": ".py",
   "mimetype": "text/x-python",
   "name": "python",
   "nbconvert_exporter": "python",
   "pygments_lexer": "ipython3",
   "version": "3.12.3"
  }
 },
 "nbformat": 4,
 "nbformat_minor": 2
}
